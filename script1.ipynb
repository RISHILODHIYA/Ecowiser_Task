{
 "cells": [
  {
   "cell_type": "code",
   "execution_count": 1,
   "metadata": {},
   "outputs": [],
   "source": [
    "import csv\n",
    "import requests\n",
    "import json"
   ]
  },
  {
   "cell_type": "code",
   "execution_count": 2,
   "metadata": {},
   "outputs": [],
   "source": [
    "# Function to search for a name on LinkedIn\n",
    "def search_on_linkedin(name):\n",
    "    url = \"https://api.linkedin.com/v2/search\"\n",
    "    headers = {\n",
    "        \"Authorization\": \"Bearer YOUR_ACCESS_TOKEN\",\n",
    "        \"X-RestLi-Protocol-Version\": \"2.0.0\"\n",
    "    }\n",
    "    params = { \"q\": f\"firstName:{name.split()[0]} lastName:{name.split()[1]}\", \"origin\": \"https://www.linkedin.com/search/results/people/\", \"count\": 10 }\n",
    "\n",
    "    response = requests.get(url, headers=headers, params=params)\n",
    "    if response.status_code == 200:  # Check if the request was successful\n",
    "        return response.json()\n",
    "    else:\n",
    "        print(f\"Failed to fetch data: {response.status_code}\")\n",
    "        return {}  # Return an empty dictionary on failure"
   ]
  },
  {
   "cell_type": "code",
   "execution_count": 3,
   "metadata": {},
   "outputs": [],
   "source": [
    "# Function to extract the top 10 search results and add more attributes\n",
    "def extract_top_10_results(data):\n",
    "    results = []\n",
    "    # Check if 'elements' key exists in the data\n",
    "    if 'elements' in data:\n",
    "        for result in data[\"elements\"]:\n",
    "            # Safely get data with get() to avoid KeyError\n",
    "            firstName = result.get(\"firstName\", {}).get(\"localized\", {}).get(\"en_US\", \"\")\n",
    "            lastName = result.get(\"lastName\", {}).get(\"localized\", {}).get(\"en_US\", \"\")\n",
    "            name = f\"{firstName} {lastName}\"\n",
    "            location = result.get(\"location\", {}).get(\"name\", {}).get(\"localized\", {}).get(\"en_US\", \"\")\n",
    "            headline = result.get(\"headline\", {}).get(\"localized\", {}).get(\"en_US\", \"\")\n",
    "            industry = result.get(\"industry\", {}).get(\"name\", {}).get(\"localized\", {}).get(\"en_US\") if \"industry\" in result else \"N/A\"\n",
    "            connection = \"1st\" if result.get(\"isConnected\", False) else \"Not Connected\"\n",
    "            results.append((name, location, headline, industry, connection))\n",
    "    else:\n",
    "        print(\"No 'elements' key in the data\")\n",
    "    return results"
   ]
  },
  {
   "cell_type": "code",
   "execution_count": 4,
   "metadata": {},
   "outputs": [],
   "source": [
    "# Function to save results in a CSV file\n",
    "def save_to_csv(results, filename):\n",
    "    with open(filename, \"w\", newline=\"\", encoding=\"utf-8\") as csvfile:\n",
    "        fieldnames = [\"Name\", \"Location\", \"Headline\", \"Industry\", \"Connection\"]\n",
    "        writer = csv.DictWriter(csvfile, fieldnames=fieldnames)\n",
    "\n",
    "        writer.writeheader()\n",
    "        for result in results:\n",
    "            writer.writerow({\"Name\": result[0], \"Location\": result[1], \"Headline\": result[2], \"Industry\": result[3], \"Connection\": result[4]})"
   ]
  },
  {
   "cell_type": "code",
   "execution_count": 7,
   "metadata": {},
   "outputs": [
    {
     "name": "stdout",
     "output_type": "stream",
     "text": [
      "Failed to fetch data: 401\n",
      "No 'elements' key in the data\n"
     ]
    }
   ],
   "source": [
    "first_name = input(\"Enter the first name: \")\n",
    "last_name = input(\"Enter the last name: \")\n",
    "name = f\"{first_name} {last_name}\"\n",
    "data = search_on_linkedin(name)\n",
    "results = extract_top_10_results(data)\n",
    "save_to_csv(results, \"linkedin_search_results.csv\")"
   ]
  },
  {
   "cell_type": "code",
   "execution_count": null,
   "metadata": {},
   "outputs": [],
   "source": []
  }
 ],
 "metadata": {
  "kernelspec": {
   "display_name": "myenv",
   "language": "python",
   "name": "myenv"
  },
  "language_info": {
   "codemirror_mode": {
    "name": "ipython",
    "version": 3
   },
   "file_extension": ".py",
   "mimetype": "text/x-python",
   "name": "python",
   "nbconvert_exporter": "python",
   "pygments_lexer": "ipython3",
   "version": "3.10.11"
  }
 },
 "nbformat": 4,
 "nbformat_minor": 2
}
