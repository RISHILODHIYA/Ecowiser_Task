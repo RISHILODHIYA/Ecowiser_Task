{
 "cells": [
  {
   "cell_type": "code",
   "execution_count": 6,
   "metadata": {},
   "outputs": [],
   "source": [
    "from selenium import webdriver\n",
    "from selenium.webdriver.common.by import By\n",
    "from selenium.webdriver.support.ui import WebDriverWait\n",
    "from selenium.webdriver.support import expected_conditions as EC\n",
    "import csv"
   ]
  },
  {
   "cell_type": "code",
   "execution_count": 7,
   "metadata": {},
   "outputs": [],
   "source": [
    "def get_linkedin_data_browser(first_name, last_name):\n",
    "    url = f'https://www.linkedin.com/search/results/people/?keywords={first_name}%20{last_name}&origin=Global_Search_Engine'\n",
    "\n",
    "    options = webdriver.ChromeOptions()\n",
    "    options.add_argument(\"--disable-notifications\")  # Disable notifications pop-up\n",
    "\n",
    "    driver = webdriver.Chrome(options=options)\n",
    "    driver.implicitly_wait(120)  # Set implicit wait time to 120 seconds\n",
    "    driver.get(url)\n",
    "\n",
    "    data = []\n",
    "\n",
    "    try:\n",
    "        for i in range(1, 6):  # Process only the first 5 relevant results\n",
    "            user = {}\n",
    "            user['name'] = driver.find_element_by_xpath(f'//*[@id=\"search\"]/div/div/div[2]/div[1]/div/ul/li[{i}]//span[1]/span[1]/span[1]').text\n",
    "            user['headline'] = driver.find_element_by_xpath(f'//*[@id=\"search\"]/div/div/div[2]/div[1]/div/ul/li[{i}]//span[2]').text\n",
    "            user['location'] = driver.find_element_by_xpath(f'//*[@id=\"search\"]/div/div/div[2]/div[1]/div/ul/li[{i}]//span[3]').text\n",
    "            user['public_profile_url'] = driver.find_element_by_xpath(f'//*[@id=\"search\"]/div/div/div[2]/div[1]/div/ul/li[{i}]//a').get_attribute('href')\n",
    "\n",
    "            data.append(user)\n",
    "    except Exception as e:\n",
    "        print(f\"Error during browser automation: {e}\")\n",
    "    finally:\n",
    "        driver.quit()\n",
    "\n",
    "    return data\n"
   ]
  },
  {
   "cell_type": "code",
   "execution_count": 8,
   "metadata": {},
   "outputs": [
    {
     "name": "stdout",
     "output_type": "stream",
     "text": [
      "Error during browser automation: 'WebDriver' object has no attribute 'find_element_by_xpath'\n"
     ]
    }
   ],
   "source": [
    "def save_to_csv(data, filename='linkedin_data_browser.csv'):\n",
    "    with open(filename, mode='w', newline='', encoding='utf-8') as file:\n",
    "        writer = csv.writer(file)\n",
    "        writer.writerow(['Name', 'Headline', 'Location', 'Public Profile URL'])\n",
    "\n",
    "        for user in data:\n",
    "            writer.writerow([user['name'], user['headline'], user['location'], user['public_profile_url']])\n",
    "\n",
    "def main():\n",
    "    first_name = input(\"Enter the first name: \")\n",
    "    last_name = input(\"Enter the last name: \")\n",
    "\n",
    "    data = get_linkedin_data_browser(first_name, last_name)\n",
    "    save_to_csv(data)\n",
    "\n",
    "if __name__ == \"__main__\":\n",
    "    main()\n",
    "\n"
   ]
  }
 ],
 "metadata": {
  "kernelspec": {
   "display_name": "myenv",
   "language": "python",
   "name": "myenv"
  },
  "language_info": {
   "codemirror_mode": {
    "name": "ipython",
    "version": 3
   },
   "file_extension": ".py",
   "mimetype": "text/x-python",
   "name": "python",
   "nbconvert_exporter": "python",
   "pygments_lexer": "ipython3",
   "version": "3.10.11"
  }
 },
 "nbformat": 4,
 "nbformat_minor": 2
}
